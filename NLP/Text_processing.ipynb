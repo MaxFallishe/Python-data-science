{
 "cells": [
  {
   "cell_type": "code",
   "execution_count": 1,
   "metadata": {},
   "outputs": [],
   "source": [
    "# You need moduls: spacy and textacy\n",
    "# And do \"python -m spacy download en_core_web_lg\"\n",
    "import spacy"
   ]
  },
  {
   "cell_type": "code",
   "execution_count": 2,
   "metadata": {},
   "outputs": [],
   "source": [
    "# Загрузка английской NLP-модели\n",
    "nlp = spacy.load('en_core_web_lg')\n",
    "\n",
    "# Текст для анализа\n",
    "text = \"\"\"London is the capital and most populous city of England and \n",
    "the United Kingdom.  Standing on the River Thames in the south east \n",
    "of the island of Great Britain, London has been a major settlement \n",
    "for two millennia. It was founded by the Romans, who named it Londinium. \n",
    "\"\"\"\n",
    "\n",
    "# Парсинг текста с помощью spaCy. Эта команда запускает целый конвейер\n",
    "doc = nlp(text)"
   ]
  },
  {
   "cell_type": "code",
   "execution_count": 3,
   "metadata": {},
   "outputs": [
    {
     "name": "stdout",
     "output_type": "stream",
     "text": [
      "London (GPE)\n",
      "England (GPE)\n",
      "the United Kingdom (GPE)\n",
      "the River Thames (FAC)\n",
      "Great Britain (GPE)\n",
      "London (GPE)\n",
      "two millennia (DATE)\n",
      "Romans (NORP)\n",
      "Londinium (PERSON)\n"
     ]
    }
   ],
   "source": [
    "# в переменной 'doc' теперь содержится обработанная версия текста\n",
    "# мы можем делать с ней все что угодно!\n",
    "# например, распечатать все обнаруженные именованные сущности\n",
    "for entity in doc.ents:\n",
    "    print(f\"{entity.text} ({entity.label_})\")"
   ]
  },
  {
   "cell_type": "markdown",
   "metadata": {},
   "source": [
    "# ТИП\t        ОПИСАНИЕ\n",
    "PERSON\t    - Люди, в том числе вымышленные.\n",
    "\n",
    "NORP\t    - Национальности или религиозные или политические группы.\n",
    "\n",
    "FAC\t        - Здания, аэропорты, автомагистрали, мосты и т. Д.\n",
    "\n",
    "ORG\t        - Компании, агентства, учреждения и т. Д.\n",
    "\n",
    "GPE\t        - Страны, города, штаты.\n",
    "\n",
    "LOC\t        - Не-ГПЭ локации, горные хребты, водоемы.\n",
    "\n",
    "PRODUCT \t- Предметы, транспортные средства, продукты питания и т. Д. (Не услуги.)\n",
    "\n",
    "EVENT\t    - Названы ураганы, сражения, войны, спортивные мероприятия и т. Д.\n",
    "\n",
    "WORK_OF_ART\t- Названия книг, песен и т. Д.\n",
    "\n",
    "LAW\t        - Названные документы внесены в законы.\n",
    "\n",
    "LANGUAGE\t- Любой названный язык.\n",
    "\n",
    "DATE\t    - Абсолютные или относительные даты или периоды.\n",
    "\n",
    "TIME\t    - Времена меньше дня.\n",
    "\n",
    "PERCENT\t    - Процент, в том числе \"%\".\n",
    "\n",
    "MONEY\t    - Денежные ценности, в том числе единица.\n",
    "\n",
    "QUANTITY\t- Измерения по весу или расстоянию.\n",
    "\n",
    "ORDINAL\t    - «первый», «второй» и т. д.\n",
    "\n",
    "CARDINAL\t- Цифры, которые не подпадают под другой тип."
   ]
  },
  {
   "cell_type": "markdown",
   "metadata": {},
   "source": [
    "<h3>Real Example"
   ]
  },
  {
   "cell_type": "code",
   "execution_count": 11,
   "metadata": {},
   "outputs": [
    {
     "name": "stdout",
     "output_type": "stream",
     "text": [
      "[REDACTED] told to [REDACTED] that he need to clean his computer room\n",
      "\n"
     ]
    }
   ],
   "source": [
    "# Если токен является именем, заменяем его словом \"REDACTED\" \n",
    "def replace_name_with_placeholder(token):\n",
    "    if token.ent_iob != 0 and token.ent_type_ == \"PERSON\":\n",
    "        return \"[REDACTED] \"\n",
    "    else:\n",
    "        return token.string\n",
    " \n",
    "# Проверка всех сущностей\n",
    "def scrub(text):\n",
    "    doc = nlp(text)\n",
    "    for ent in doc.ents:\n",
    "        ent.merge()\n",
    "    tokens = map(replace_name_with_placeholder, doc)\n",
    "    return \"\".join(tokens)\n",
    " \n",
    "s = \"\"\"\n",
    "In 1950, Alan Turing published his famous article \"Computing Machinery and Intelligence\". In 1957, Noam Chomsky’s \n",
    "Syntactic Structures revolutionized Linguistics with 'universal grammar', a rule based system of syntactic structures.\n",
    "\"\"\"\n",
    "\n",
    "ss = \"\"\"\n",
    "Nina told to Nikita that he need to clean his computer room\n",
    "\"\"\"\n",
    "print(scrub(ss))"
   ]
  },
  {
   "cell_type": "code",
   "execution_count": 12,
   "metadata": {},
   "outputs": [
    {
     "name": "stdout",
     "output_type": "stream",
     "text": [
      "Here are the things I know about London:\n",
      " - the capital and most populous city of England and  the United Kingdom.  \n",
      "\n",
      " - a major settlement  for two millennia.  \n"
     ]
    }
   ],
   "source": [
    "import textacy.extract\n",
    " \n",
    "# Загрузка английской NLP-модели\n",
    "nlp = spacy.load('en_core_web_lg')\n",
    " \n",
    "# Текст для анализа\n",
    "text = \"\"\"London is the capital and most populous city of England and  the United Kingdom.  \n",
    "Standing on the River Thames in the south east of the island of Great Britain, \n",
    "London has been a major settlement  for two millennia.  It was founded by the Romans, \n",
    "who named it Londinium.\n",
    "\"\"\"\n",
    " \n",
    "# Анализ\n",
    "doc = nlp(text)\n",
    " \n",
    "# Извлечение полуструктурированных выражений со словом London\n",
    "statements = textacy.extract.semistructured_statements(doc, \"London\")\n",
    " \n",
    "# Вывод результатов\n",
    "print(\"Here are the things I know about London:\")\n",
    " \n",
    "for statement in statements:\n",
    "    subject, verb, fact = statement\n",
    "    print(f\" - {fact}\")"
   ]
  },
  {
   "cell_type": "code",
   "execution_count": 14,
   "metadata": {},
   "outputs": [],
   "source": [
    "import spacy\n",
    "import textacy.extract\n",
    " \n",
    "# Загрузка английской NLP-модели\n",
    "nlp = spacy.load('en_core_web_lg')\n",
    " \n",
    "# Текст для анализа\n",
    "text = \"\"\"London (/ˈlʌndən/ (About this soundlisten) LUN-dən) is the capital and largest city of both England and the United Kingdom.[9][10] Standing on the River Thames in the south-east of England, at the head of its 50-mile (80 km) estuary leading to the North Sea, London has been a major settlement for two millennia. Londinium was founded by the Romans.[11] The City of London, London's ancient core − an area of just 1.12 square miles (2.9 km2) and colloquially known as the Square Mile − retains boundaries that follow closely its medieval limits.[12][13][14][15][16][note 1] The City of Westminster is also an Inner London borough holding city status. Greater London is governed by the Mayor of London and the London Assembly.[17][note 2][18]\n",
    "\n",
    "London is considered to be one of the world's most important global cities[19][20][21] and has been termed the world's most powerful,[22] most desirable,[23] most influential,[24] most visited,[25] most expensive,[26][27] innovative,[28] sustainable,[29] most investment friendly,[30] most popular for work,[31] and the most vegetarian friendly[32] city in the world. London exerts a considerable impact upon the arts, commerce, education, entertainment, fashion, finance, healthcare, media, professional services, research and development, tourism and transportation.[33][34] London ranks 26 out of 300 major cities for economic performance.[35] It is one of the largest financial centres[36] and has either the fifth or sixth largest metropolitan area GDP.[note 3][37][38][39][40][41] It is the most-visited city as measured by international arrivals[42] and has the busiest city airport system as measured by passenger traffic.[43] It is the leading investment destination,[44][45][46][47] hosting more international retailers[48][49] and ultra high-net-worth individuals[50][51] than any other city. London's universities form the largest concentration of higher education institutes in Europe.[52] In 2012, London became the first city to have hosted three modern Summer Olympic Games.[53]\n",
    "\n",
    "London has a diverse range of people and cultures, and more than 300 languages are spoken in the region.[54] Its estimated mid-2016 municipal population (corresponding to Greater London) was 8,787,892,[4] the most populous of any city in the European Union[55] and accounting for 13.4% of the UK population.[56] London's urban area is the second most populous in the EU, after Paris, with 9,787,426 inhabitants at the 2011 census.[57] The population within the London commuter belt is the most populous in the EU with 14,040,163 inhabitants in 2016.[note 4][3][58] London was the world's most populous city from c. 1831 to 1925.[59]\n",
    "\n",
    "London contains four World Heritage Sites: the Tower of London; Kew Gardens; the site comprising the Palace of Westminster, Westminster Abbey, and St Margaret's Church; and the historic settlement in Greenwich where the Royal Observatory, Greenwich defines the Prime Meridian, 0° longitude, and Greenwich Mean Time.[60] Other landmarks include Buckingham Palace, the London Eye, Piccadilly Circus, St Paul's Cathedral, Tower Bridge, Trafalgar Square and The Shard. London has numerous museums, galleries, libraries and sporting events. These include the British Museum, National Gallery, Natural History Museum, Tate Modern, British Library and West End theatres.[61] The London Underground is the oldest underground railway network in the world.\"\"\"\n",
    " \n",
    "# Анализ\n",
    "doc = nlp(text)\n",
    " \n",
    "# Извлечение фрагментов\n",
    "noun_chunks = textacy.extract.noun_chunks(doc, min_freq=3)\n",
    " \n",
    "# Перевод в нижний регистр\n",
    "noun_chunks = map(str, noun_chunks)\n",
    "noun_chunks = map(str.lower, noun_chunks)\n",
    " \n",
    "# вывод всех фрагментов, состоящих из 2 слов и более\n",
    "for noun_chunk in set(noun_chunks):\n",
    "    if len(noun_chunk.split(\" \")) > 1:\n",
    "        print(noun_chunk)"
   ]
  },
  {
   "cell_type": "code",
   "execution_count": null,
   "metadata": {},
   "outputs": [],
   "source": []
  }
 ],
 "metadata": {
  "kernelspec": {
   "display_name": "Python 3",
   "language": "python",
   "name": "python3"
  },
  "language_info": {
   "codemirror_mode": {
    "name": "ipython",
    "version": 3
   },
   "file_extension": ".py",
   "mimetype": "text/x-python",
   "name": "python",
   "nbconvert_exporter": "python",
   "pygments_lexer": "ipython3",
   "version": "3.6.5"
  }
 },
 "nbformat": 4,
 "nbformat_minor": 2
}
